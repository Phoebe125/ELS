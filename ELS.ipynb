{
  "nbformat": 4,
  "nbformat_minor": 0,
  "metadata": {
    "colab": {
      "name": "ELS.ipynb",
      "provenance": [],
      "collapsed_sections": [],
      "include_colab_link": true
    },
    "kernelspec": {
      "name": "python3",
      "display_name": "Python 3"
    },
    "language_info": {
      "name": "python"
    }
  },
  "cells": [
    {
      "cell_type": "markdown",
      "metadata": {
        "id": "view-in-github",
        "colab_type": "text"
      },
      "source": [
        "<a href=\"https://colab.research.google.com/github/Phoebe125/ELS/blob/main/ELS.ipynb\" target=\"_parent\"><img src=\"https://colab.research.google.com/assets/colab-badge.svg\" alt=\"Open In Colab\"/></a>"
      ]
    },
    {
      "cell_type": "markdown",
      "metadata": {
        "id": "7_w6q_nltUK7"
      },
      "source": [
        "Basic Step Down 신금투 21425"
      ]
    },
    {
      "cell_type": "code",
      "metadata": {
        "id": "IbxUtTP1tppw",
        "colab": {
          "base_uri": "https://localhost:8080/"
        },
        "outputId": "f572f25a-0637-49cd-f883-99c3d8b1935d"
      },
      "source": [
        "import time\n",
        "import numpy as np\n",
        "\n",
        "start = time.time()\n",
        "\n",
        "S0 = 100  # 최초기준가격\n",
        "\n",
        "r_1 = 0.00160  # 1년만기 무위험수익률\n",
        "r_2 = 0.00190      \n",
        "r_3 = -0.00536\n",
        "\n",
        "q_1 = 0.013240  # 배당\n",
        "q_2 = 0.026810\n",
        "q_3 = 0.021550\n",
        "\n",
        "sigma_1 = 0.2643  # 변동성\n",
        "sigma_2 = 0.2551\n",
        "sigma_3 = 0.2514\n",
        "\n",
        "rho_12 = 0.13245  # 상관계수 \n",
        "rho_13 = 0.60590\n",
        "rho_23 = 0.26899\n",
        "\n",
        "T = 3.0  # 만기\n",
        "D = 252  # 영업일 \n",
        "dt = 1 / D  # time step: 일별 종가기준 \n",
        "I = 50000  # Iteration\n",
        "\n",
        "R = np.ones((3,3))\n",
        "R[0,1] = rho_12\n",
        "R[1,0] = rho_12\n",
        "R[0,2] = rho_13\n",
        "R[2,0] = rho_13\n",
        "R[1,2] = rho_23\n",
        "R[2,1] = rho_23\n",
        "\n",
        "L = np.linalg.cholesky(R) # Correlation matrix를 cholesky decomposition 한 후 남은 lower triangular matrix\n",
        "\n",
        "S_1 = np.zeros((252*3 + 1, I))\n",
        "S_1[0] = S0\n",
        "\n",
        "S_2 = np.zeros((252*3 + 1, I))\n",
        "S_2[0] = S0\n",
        "\n",
        "S_3 = np.zeros((252*3 + 1, I))\n",
        "S_3[0] = S0\n",
        "\n",
        "for t in range(1, 757):\n",
        "    A = np.random.standard_normal((3, I))\n",
        "    B = np.dot(L, A)  # 상관관계가 고려된 난수 생성\n",
        "\n",
        "    S_1[t] = S_1[t-1] * np.exp((r_1 - q_1 - 0.5 * sigma_1 ** 2) * dt + sigma_1 * np.sqrt(dt) * B[0])\n",
        "    S_2[t] = S_2[t-1] * np.exp((r_2 - q_2 - 0.5 * sigma_2 ** 2) * dt + sigma_2 * np.sqrt(dt) * B[1])\n",
        "    S_3[t] = S_3[t-1] * np.exp((r_3 - q_3 - 0.5 * sigma_3 ** 2) * dt + sigma_3 * np.sqrt(dt) * B[2])\n",
        "\n",
        "WP = np.zeros((252*3 + 1, I))\n",
        "WP = np.min((S_1, S_2, S_3), axis = 0)\n",
        "\n",
        "P = np.zeros(I)   # ELS의 path별 PV Matrix\n",
        "\n",
        "C = np.zeros((6,1)) # PV matrix\n",
        "C[0] = np.exp(-0.01092 * 0.5) * 101.95 #액면 금액 * 101.95%\n",
        "C[1] = np.exp(-0.01307 * 1.0) * 103.90 #액면 금액 * 103.90%\n",
        "C[2] = np.exp(- 0.01480 * 1.5) * 105.85 #액면 금액 * 105.85%\n",
        "C[3] = np.exp(-0.01655 * 2.0) * 107.80 #액면 금액 * 107.80%\n",
        "C[4] = np.exp(-0.01753* 2.5) * 109.75 #액면 금액 * 109.75%\n",
        "C[5] = np.exp(-0.01832 * 3.0) * 111.70 #액면 금액 * 111.70%\n",
        " \n",
        "for r in range(0, I):\n",
        "    if WP[126, r] >= 85:\n",
        "        P[r] = C[0]\n",
        "    elif WP[252, r] >= 85:\n",
        "        P[r] = C[1]\n",
        "    elif WP[378, r] >= 80:\n",
        "        P[r] = C[2]\n",
        "    elif WP[504, r] >= 80:\n",
        "        P[r] = C[3]\n",
        "    elif WP[630, r] >= 75:\n",
        "        P[r] = C[4]\n",
        "    elif WP[756, r] >= 70:        # 여기까지가 자동조기상환 성공 시나리오\n",
        "        P[r] = C[5]\n",
        "    elif WP[:, r].min() > 50:     # 자동조기상환은 실패했지만, 모든 날짜의 종가가 50%미만 하락하지 않은 경우\n",
        "        P[r] = C[5]\n",
        "    else:                          # 원금손실 (참여율 100%)\n",
        "        P[r] = WP[-1, r] * np.exp(-0.01832 * 3.0)\n",
        "        \n",
        "        \n",
        "PV = np.mean(P) * 100\n",
        "PV\n",
        "\n",
        "print(PV.round(2))\n",
        "print('time :', time.time() - start)"
      ],
      "execution_count": null,
      "outputs": [
        {
          "output_type": "stream",
          "name": "stdout",
          "text": [
            "8900.44\n",
            "time : 12.904228925704956\n"
          ]
        }
      ]
    },
    {
      "cell_type": "markdown",
      "metadata": {
        "id": "cVGgfiektbTD"
      },
      "source": [
        "Monthly Coupon NH투증 21102"
      ]
    },
    {
      "cell_type": "code",
      "metadata": {
        "colab": {
          "base_uri": "https://localhost:8080/"
        },
        "id": "JHv8PplltN9m",
        "outputId": "a45809e7-eb67-4584-a270-9d9f626c5f38"
      },
      "source": [
        "import time\n",
        "import numpy as np\n",
        "\n",
        "start = time.time()\n",
        "\n",
        "S0 = 100  # 최초기준가격 \n",
        "\n",
        "r_1 = 0.00161  # 1년만기 무위험이자율\n",
        "r_2 = -0.00542\n",
        "\n",
        "q_1 = 0.005816  # 배당\n",
        "q_2 = 0.020980\n",
        "\n",
        "sigma_1 = 0.246606  # 변동성\n",
        "sigma_2 = 0.253700\n",
        "\n",
        "rho_12 = 0.22825  # 상관계수\n",
        "\n",
        "df = 0.0150  # 할인율\n",
        "\n",
        "T = 3\n",
        "Nt = 252  # 영업일 \n",
        "dt = 1 / Nt  # time step: 일별 종가기준 \n",
        "I = 50000  # Iteration\n",
        "\n",
        "R = np.ones((2, 2))  # Correlation matrix\n",
        "R[0,1] = rho_12\n",
        "R[1,0] = rho_12\n",
        "\n",
        "L = np.linalg.cholesky(R)\n",
        "\n",
        "S_1 = np.zeros((int(Nt*T + 1), I))\n",
        "S_1[0] = S0\n",
        "\n",
        "S_2 = np.zeros((int(Nt*T + 1), I))\n",
        "S_2[0] = S0\n",
        "\n",
        "\n",
        "for t in range(1, int(Nt*T + 1)):\n",
        "    A = np.random.standard_normal((2, I))\n",
        "    B = np.dot(L, A)\n",
        "\n",
        "    S_1[t] = S_1[t-1] * np.exp((r_1 - q_1 - 0.5 * sigma_1 ** 2) * dt + sigma_1 * np.sqrt(dt) * B[0])\n",
        "    S_2[t] = S_2[t-1] * np.exp((r_2 - q_2 - 0.5 * sigma_2 ** 2) * dt + sigma_2 * np.sqrt(dt) * B[1])\n",
        "    \n",
        "WP = np.zeros((Nt * T + 1, I)) \n",
        "WP = np.min((S_1, S_2), axis = 0)\n",
        "\n",
        "P = np.zeros(I)  # ELS의 path별 상환금액의 PV\n",
        "    \n",
        "C = np.zeros((6,1)) # Payoff의 PV matrix\n",
        "C[0] = np.exp(-0.011020 * 0.5) * 100\n",
        "C[1] = np.exp(-0.013240 * 1.0) * 100\n",
        "C[2] = np.exp(- 0.014680 * 1.5) * 100\n",
        "C[3] = np.exp(-0.016030 * 2.0) * 100\n",
        "C[4] = np.exp(-0.017210* 2.5) * 100\n",
        "C[5] = np.exp(-0.018080 * 3.0) * 100\n",
        "\n",
        "Cpn = np.zeros(I)  # 쿠폰지급액의 PV\n",
        "\n",
        "for r in range(0, I):\n",
        "    if WP[126, r] >= 95:\n",
        "        P[r] = C[0]\n",
        "        for c in range(1,7):\n",
        "            if WP[21*c, r] >= 60:\n",
        "                Cpn[r] = Cpn[r] + (100 * 0.005) * np.exp(-df * 21 * c / Nt)  # 쿠폰을 각각의 현재가치로 더함\n",
        "        P[r] = P[r] + Cpn[r]  \n",
        "        \n",
        "    elif WP[252, r] >= 90:\n",
        "        P[r] = C[1]\n",
        "        for c in range(1,13):\n",
        "            if WP[21*c, r] >= 60:\n",
        "                Cpn[r] = Cpn[r] + (100 * 0.005) * np.exp(-df * 21 * c / Nt)\n",
        "        P[r] = P[r] + Cpn[r]\n",
        "        \n",
        "    elif WP[378, r] >= 85:\n",
        "        P[r] = C[2]\n",
        "        for c in range(1,19):\n",
        "            if WP[21*c, r] >= 60:\n",
        "                Cpn[r] = Cpn[r] + (100 * 0.005) * np.exp(-df * 21 * c / Nt)\n",
        "        P[r] = P[r] + Cpn[r]\n",
        "        \n",
        "    elif WP[504, r] >= 85:\n",
        "        P[r] = C[3]\n",
        "        for c in range(1,25):\n",
        "            if WP[21*c, r] >= 60:\n",
        "                Cpn[r] = Cpn[r] + (100 * 0.005) * np.exp(-df * 21 * c / Nt)\n",
        "        P[r] = P[r] + Cpn[r]\n",
        "        \n",
        "    elif WP[630, r] >= 80:\n",
        "        P[r] = C[4]\n",
        "        for c in range(1,31):\n",
        "            if WP[21*c, r] >= 60:\n",
        "                Cpn[r] = Cpn[r] + (100 * 0.005) * np.exp(-df * 21 * c / Nt)\n",
        "        P[r] = P[r] + Cpn[r] \n",
        "        \n",
        "    elif WP[756, r] >= 80:        # 여기까지가 자동조기상환 성공 시나리오\n",
        "        P[r] = C[5]\n",
        "        for c in range(1,37):\n",
        "            if WP[21*c, r] >= 60:\n",
        "                Cpn[r] = Cpn[r] + (100 * 0.005) * np.exp(-df * 21 * c / Nt)     \n",
        "        P[r] = P[r] + Cpn[r]\n",
        "        \n",
        "    elif WP[:, r].min() > 50:     # 자동조기상환은 실패했지만, 모든 날짜의 종가가 50%미만 하락하지 않은 경우\n",
        "        P[r] = C[5]\n",
        "        for c in range(1,37):\n",
        "            if WP[21*c, r] >= 60:\n",
        "                Cpn[r] = Cpn[r] + (100 * 0.005) * np.exp(-df * 21 * c / Nt)\n",
        "        P[r] = P[r] + Cpn[r]\n",
        "        \n",
        "    else:                          # 원금손실 (참여율 100%)\n",
        "        P[r] = WP[-1, r] * np.exp(-0.018080 * 3.0)\n",
        "        for c in range(1,37):\n",
        "            if WP[21*c, r] >= 60:\n",
        "                Cpn[r] = Cpn[r] + (100 * 0.005) * np.exp(-df * 21 * c / Nt)\n",
        "        P[r] = P[r] + Cpn[r]     \n",
        "            \n",
        "PV = np.mean(P)*100\n",
        "print(PV.round(2))\n",
        "print('time :', time.time() - start)"
      ],
      "execution_count": null,
      "outputs": [
        {
          "output_type": "stream",
          "name": "stdout",
          "text": [
            "9418.54\n",
            "time : 7.833194017410278\n"
          ]
        }
      ]
    },
    {
      "cell_type": "markdown",
      "metadata": {
        "id": "N-29WKqktjVP"
      },
      "source": [
        "Shooting Up 삼성증권 26661"
      ]
    },
    {
      "cell_type": "code",
      "metadata": {
        "colab": {
          "base_uri": "https://localhost:8080/"
        },
        "id": "SRV3u-6HtOAD",
        "outputId": "61c5c7a9-350f-4ce1-a94e-1e303cbbce19"
      },
      "source": [
        "import time\n",
        "import numpy as np\n",
        "\n",
        "#Shooting up: 주식에 투자하는데 투자손실은 -5%로 제한하고, \n",
        "#주가 상승에 따른 수익을 일정 비율(참여율)만큼 누릴 수 있는 구조로 변동성 장세에 위험관리와 수익추구를 동시에 추구할 수 있는 상품으로 설계가 되었다.\n",
        "\n",
        "start = time.time()\n",
        "\n",
        "S0 = 100  #최초기준가격   \n",
        "\n",
        "r_1 = 0.00150  # 1년만기 무위험이자율\n",
        "\n",
        "q_1 = 0.00562  # 배당\n",
        "\n",
        "sigma_1 = 0.240152  # 변동성\n",
        "\n",
        "T = 0.5  #만기\n",
        "Nt = 252  # 영업일 \n",
        "dt = 1 / 252  # time step: 일별 종가기준 \n",
        "I = 50000  # Iteration\n",
        "\n",
        "S_1 = np.zeros((int(Nt*T + 1), I))\n",
        "S_1[0] = S0\n",
        "\n",
        "for t in range(1, int(Nt*T + 1)):\n",
        "    A = np.random.standard_normal(I)\n",
        "\n",
        "    S_1[t] = S_1[t-1] * np.exp((r_1 - q_1 - 0.5 * sigma_1 ** 2) * dt + sigma_1 * np.sqrt(dt) * A)\n",
        "\n",
        "P = np.zeros(I)   # ELS의 path별 PV Matrix\n",
        "    \n",
        "for r in range(0, I):\n",
        "    if np.mean(S_1[-3:, r]) >= 100:\n",
        "        P[r] = np.exp(-0.0112 * T) * 100 * (1 + 0.22 * (np.mean(S_1[-3:, r]) / 100 - 1))\n",
        "    elif np.mean(S_1[-3:, r]) >= 90:\n",
        "        P[r] = np.exp(-0.0112 * T) * 100 * (0.9 + (np.mean(S_1[-3:, r]) / 100 - 0.9))\n",
        "    else:\n",
        "        P[r] = np.exp(-0.0112 * T) * 100 * 0.9\n",
        "\n",
        "PV = np.mean(P)*100\n",
        "print(PV.round(2))\n",
        "print('time :', time.time() - start)"
      ],
      "execution_count": null,
      "outputs": [
        {
          "output_type": "stream",
          "name": "stdout",
          "text": [
            "9675.89\n",
            "time : 1.849083423614502\n"
          ]
        }
      ]
    }
  ]
}